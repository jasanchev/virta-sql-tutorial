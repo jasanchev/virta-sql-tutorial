{
 "cells": [
  {
   "cell_type": "markdown",
   "metadata": {},
   "source": [
    "# Jupyter NoteBook del Tutorial"
   ]
  },
  {
   "cell_type": "markdown",
   "metadata": {},
   "source": [
    "## Importar librerias"
   ]
  },
  {
   "cell_type": "code",
   "execution_count": 1,
   "metadata": {},
   "outputs": [],
   "source": [
    "import pyodbc\n",
    "import pandas as pd\n",
    "from sqlalchemy import text"
   ]
  },
  {
   "cell_type": "markdown",
   "metadata": {},
   "source": [
    "## Establecer conexión con la instancia de SQL Server"
   ]
  },
  {
   "cell_type": "code",
   "execution_count": 18,
   "metadata": {},
   "outputs": [
    {
     "name": "stdout",
     "output_type": "stream",
     "text": [
      "Conexión exitosa\n"
     ]
    }
   ],
   "source": [
    "server = 'SANCHEZJAIME\\\\VIRTAMINTIC'\n",
    "database = 'films_db'\n",
    "username = 'equipo10'\n",
    "password = '12345678'\n",
    "driver = 'ODBC Driver 17 for SQL Server'\n",
    "\n",
    "# Crear la cadena de conexión\n",
    "\n",
    "conn_str = (\n",
    "    f\"DRIVER={driver};\"\n",
    "    f\"SERVER={server};\"\n",
    "    f\"DATABASE={database};\"\n",
    "    f\"UID={username};\"\n",
    "    f\"PWD={password}\"\n",
    ")\n",
    "\n",
    "try:\n",
    "    # Establecer la conexión\n",
    "    conn = pyodbc.connect(conn_str)\n",
    "    conn.autocommit = True\n",
    "    cursor = conn.cursor()\n",
    "    \n",
    "    # Ejecutar una consulta\n",
    "    print(\"Conexión exitosa\")\n",
    "    \n",
    "except Exception as e:\n",
    "    print(\"Error en la conexión:\", e)"
   ]
  },
  {
   "cell_type": "markdown",
   "metadata": {},
   "source": [
    "## Crear Tabla movies"
   ]
  },
  {
   "cell_type": "code",
   "execution_count": 8,
   "metadata": {},
   "outputs": [
    {
     "name": "stdout",
     "output_type": "stream",
     "text": [
      "Query ejecutado con éxito\n"
     ]
    }
   ],
   "source": [
    "create_table_query = \"\"\"\n",
    "                    CREATE TABLE movies (\n",
    "                    id INT PRIMARY KEY,\n",
    "                    title VARCHAR(255) NOT NULL,\n",
    "                    release_year INT NULL,\n",
    "                    country VARCHAR(100) NULL,\n",
    "                    duration INT NULL,\n",
    "                    language VARCHAR(100) NULL,\n",
    "                    certification VARCHAR(50) NULL,\n",
    "                    gross DECIMAL(18,2) NULL,\n",
    "                    budget DECIMAL(18,2) NULL\n",
    "                    );\n",
    "\"\"\"\n",
    "try:\n",
    "    cursor.execute(create_table_query)\n",
    "    print(\"Query ejecutado con éxito\")\n",
    "except Exception as e:\n",
    "    print(\"Error en el query: {e}\")"
   ]
  },
  {
   "cell_type": "markdown",
   "metadata": {},
   "source": [
    "## Agregar registros a la Tabla"
   ]
  },
  {
   "cell_type": "code",
   "execution_count": null,
   "metadata": {},
   "outputs": [
    {
     "name": "stdout",
     "output_type": "stream",
     "text": [
      "Query ejecutado con éxito\n"
     ]
    }
   ],
   "source": [
    "insert_data_query = \"\"\"\n",
    "                INSERT INTO movies (\n",
    "                    id,\n",
    "                    title,\n",
    "                    release_year,\n",
    "                    country,\n",
    "                    duration,\n",
    "                    language,\n",
    "                    certification,\n",
    "                    gross,\n",
    "                    budget\n",
    "                )\n",
    "                VALUES\n",
    "                    (1, 'Teenage Mutant Ninja Turtles: Out of the Shadows', 2016, 'USA', 112, 'English', 'PG-13', 81638674, 135000000),\n",
    "                    (2, 'The 5th Wave', 2016, 'USA', 112, 'English', 'PG-13', 34912982, 38000000),\n",
    "                    (3, 'The Angry Birds Movie', 2016, 'USA', 97, 'English', 'PG', 107225164, 73000000),\n",
    "                    (4, 'The BFG', 2016, 'UK', 117, 'English', 'PG', 52792307, 140000000),\n",
    "                    (5, 'The Boss', 2016, 'USA', 99, 'English', 'R', 63034755, 29000000),\n",
    "                    (6, 'The Boy', 2016, 'USA', 97, 'English', 'PG-13', 35794166, 10000000),\n",
    "                    (7, 'The Conjuring 2', 2016, 'USA', 134, 'English', 'R', 102310175, 40000000),\n",
    "                    (8, 'The Forest', 2016, 'USA', 93, 'English', 'PG-13', 26583369, 10000000),\n",
    "                    (9, 'The Huntsman Winter''s War', 2016, 'USA', 120, 'English', 'PG-13', 47952020, 115000000),\n",
    "                    (10, 'The Infiltrator', 2016, 'UK', 127, 'English', 'R', 14946229, 25000000),\n",
    "                    (11, 'The Jungle Book', 2016, 'UK', 106, 'English', 'PG', 362645141, 175000000),\n",
    "                    (12, 'The Legend of Tarzan', 2016, 'USA', 110, 'English', 'PG-13', 124051759, 180000000),\n",
    "                    (13, 'The Masked Saint', 2016, 'Canada', 105, 'English', 'PG-13', 123777, 3500000),\n",
    "                    (14, 'The Neon Demon', 2016, 'France', 118, 'English', 'R', 1330827, 7000000),\n",
    "                    (15, 'The Perfect Match', 2016, 'USA', 96, 'English', 'R', 9658370, 5000000);\n",
    "\"\"\"\n",
    "\n",
    "try:\n",
    "    cursor.execute(insert_data_query)\n",
    "    print(\"Query ejecutado con éxito\")\n",
    "except Exception as e:\n",
    "    print(\"Error en el query: {e}\")"
   ]
  },
  {
   "cell_type": "markdown",
   "metadata": {},
   "source": [
    "## Visualización de la Tabla Creada"
   ]
  },
  {
   "cell_type": "code",
   "execution_count": 25,
   "metadata": {},
   "outputs": [
    {
     "name": "stdout",
     "output_type": "stream",
     "text": [
      "+------+-------------------------------------------------+----------------+-----------+------------+------------+-----------------+------------------+----------+\n",
      "|   id | title                                           |   release_year | country   |   duration | language   | certification   |            gross |   budget |\n",
      "|------+-------------------------------------------------+----------------+-----------+------------+------------+-----------------+------------------+----------|\n",
      "|    1 | Teenage Mutant Ninja Turtles Out of the Shadows |           2016 | USA       |        112 | English    | PG-13           |      8.16387e+07 | 1.35e+08 |\n",
      "|    2 | The 5th Wave                                    |           2016 | USA       |        112 | English    | PG-13           |      3.4913e+07  | 3.8e+07  |\n",
      "|    3 | The Angry Birds Movie                           |           2016 | USA       |         97 | English    | PG              |      1.07225e+08 | 7.3e+07  |\n",
      "|    4 | The BFG                                         |           2016 | UK        |        117 | English    | PG              |      5.27923e+07 | 1.4e+08  |\n",
      "|    5 | The Boss                                        |           2016 | USA       |         99 | English    | R               |      6.30348e+07 | 2.9e+07  |\n",
      "|    6 | The Boy                                         |           2016 | USA       |         97 | English    | PG-13           |      3.57942e+07 | 1e+07    |\n",
      "|    7 | The Conjuring 2                                 |           2016 | USA       |        134 | English    | R               |      1.0231e+08  | 4e+07    |\n",
      "|    8 | The Forest                                      |           2016 | USA       |         93 | English    | PG-13           |      2.65834e+07 | 1e+07    |\n",
      "|    9 | The Huntsman Winter's War                       |           2016 | USA       |        120 | English    | PG-13           |      4.7952e+07  | 1.15e+08 |\n",
      "|   10 | The Infiltrator                                 |           2016 | UK        |        127 | English    | R               |      1.49462e+07 | 2.5e+07  |\n",
      "|   11 | The Jungle Book                                 |           2016 | UK        |        106 | English    | PG              |      3.62645e+08 | 1.75e+08 |\n",
      "|   12 | The Legend of Tarzan                            |           2016 | USA       |        110 | English    | PG-13           |      1.24052e+08 | 1.8e+08  |\n",
      "|   13 | The Masked Saint                                |           2016 | Canada    |        105 | English    | PG-13           | 123777           | 3.5e+06  |\n",
      "|   14 | The Neon Demon                                  |           2016 | France    |        118 | English    | R               |      1.33083e+06 | 7e+06    |\n",
      "|   15 | The Perfect Match                               |           2016 | USA       |         96 | English    | R               |      9.65837e+06 | 5e+06    |\n",
      "+------+-------------------------------------------------+----------------+-----------+------------+------------+-----------------+------------------+----------+\n"
     ]
    }
   ],
   "source": [
    "import warnings\n",
    "from tabulate import tabulate\n",
    "\n",
    "# Ignorar advertencias específicas de pandas\n",
    "warnings.filterwarnings(\"ignore\", message=\"pandas only supports SQLAlchemy\")\n",
    "\n",
    "vista_query = \"SELECT * FROM movies\"\n",
    "\n",
    "try:\n",
    "    result = pd.read_sql(vista_query, conn)\n",
    "except Exception as e:\n",
    "    print(f\"Error en el Query: {e}\")\n",
    "\n",
    "# result\n",
    "# print(result.to_string(index=False))\n",
    "print(tabulate(result, headers='keys', tablefmt='psql', showindex=False))"
   ]
  },
  {
   "cell_type": "markdown",
   "metadata": {},
   "source": [
    "# Creación del FullText-Search"
   ]
  },
  {
   "cell_type": "markdown",
   "metadata": {},
   "source": [
    "## Creación del Catálogo"
   ]
  },
  {
   "cell_type": "code",
   "execution_count": 26,
   "metadata": {},
   "outputs": [
    {
     "name": "stdout",
     "output_type": "stream",
     "text": [
      "Catálogo creado con éxito\n"
     ]
    }
   ],
   "source": [
    "create_catalog_query = \"CREATE FULLTEXT CATALOG catalogo_movies AS DEFAULT\"\n",
    "\n",
    "try:\n",
    "    cursor.execute(create_catalog_query)\n",
    "    print(\"Catálogo creado con éxito\")\n",
    "except Exception as e:\n",
    "    print(f\"Error en el Query: {e}\")"
   ]
  },
  {
   "cell_type": "markdown",
   "metadata": {},
   "source": [
    "## Crear el Índice del FTS"
   ]
  },
  {
   "cell_type": "code",
   "execution_count": 27,
   "metadata": {},
   "outputs": [
    {
     "name": "stdout",
     "output_type": "stream",
     "text": [
      "Índice FTS creado con éxito\n"
     ]
    }
   ],
   "source": [
    "create_index_query = \"\"\"\n",
    "                    CREATE FULLTEXT INDEX ON movies (title)\n",
    "                    KEY INDEX PK__movies__3213E83F43C0E526\n",
    "                    WITH STOPLIST = SYSTEM;\n",
    "                    \"\"\"\n",
    "\n",
    "try:\n",
    "    cursor.execute(create_index_query)\n",
    "    print(\"Índice FTS creado con éxito\")\n",
    "except Exception as e:\n",
    "    print(f\"Error en el índice: {e}\")"
   ]
  },
  {
   "cell_type": "markdown",
   "metadata": {},
   "source": [
    "# Consultas de FTS"
   ]
  },
  {
   "cell_type": "markdown",
   "metadata": {},
   "source": [
    "## CONTAINS"
   ]
  },
  {
   "cell_type": "code",
   "execution_count": 32,
   "metadata": {},
   "outputs": [
    {
     "name": "stdout",
     "output_type": "stream",
     "text": [
      "(14, 'The Neon Demon', 2016, 'France', 118, 'English', 'R', Decimal('1330827.00'), Decimal('7000000.00'))\n"
     ]
    }
   ],
   "source": [
    "contains_query=\"\"\"\n",
    "                SELECT * FROM movies\n",
    "                WHERE CONTAINS(title, 'Demon')\n",
    "            \"\"\"\n",
    "\n",
    "try:\n",
    "    contains_result = cursor.execute(contains_query).fetchall()\n",
    "    for row in contains_result:\n",
    "        print(row)\n",
    "except Exception as e:\n",
    "    print(f\"Error en el CONTAINS: {e}\")"
   ]
  },
  {
   "cell_type": "markdown",
   "metadata": {},
   "source": [
    "## FREETEXT"
   ]
  },
  {
   "cell_type": "code",
   "execution_count": 35,
   "metadata": {},
   "outputs": [
    {
     "name": "stdout",
     "output_type": "stream",
     "text": [
      "(14, 'The Neon Demon', 2016, 'France', 118, 'English', 'R', Decimal('1330827.00'), Decimal('7000000.00'))\n"
     ]
    }
   ],
   "source": [
    "freetext_query=\"\"\"\n",
    "                SELECT * FROM movies\n",
    "                WHERE FREETEXT(title, 'The Neon')\n",
    "            \"\"\"\n",
    "\n",
    "try:\n",
    "    freetext_result = cursor.execute(freetext_query).fetchall()\n",
    "    for row in freetext_result:\n",
    "        print(row)\n",
    "except Exception as e:\n",
    "    print(f\"Error en el FREETEXT: {e}\")"
   ]
  }
 ],
 "metadata": {
  "kernelspec": {
   "display_name": "virtamintic",
   "language": "python",
   "name": "python3"
  },
  "language_info": {
   "codemirror_mode": {
    "name": "ipython",
    "version": 3
   },
   "file_extension": ".py",
   "mimetype": "text/x-python",
   "name": "python",
   "nbconvert_exporter": "python",
   "pygments_lexer": "ipython3",
   "version": "3.13.0"
  }
 },
 "nbformat": 4,
 "nbformat_minor": 2
}
